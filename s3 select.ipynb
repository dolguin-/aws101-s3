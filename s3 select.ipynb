{
 "cells": [
  {
   "cell_type": "markdown",
   "metadata": {},
   "source": [
    "# AWS101 - Amazon S3 Select"
   ]
  },
  {
   "cell_type": "markdown",
   "metadata": {},
   "source": [
    "## 1. Instalamos las dependencias\n",
    "\n",
    "Instalamos la libreria boto3 que utilizaremos para interactuar con la API de AWS y Pandas que utilizaremos para manipular los datos, todo esto utilizando nuestra terminal."
   ]
  },
  {
   "cell_type": "code",
   "execution_count": null,
   "metadata": {},
   "outputs": [],
   "source": [
    "pip install boto3"
   ]
  },
  {
   "cell_type": "markdown",
   "metadata": {},
   "source": [
    "## 2. inicializamos el cliente S3\n",
    "\n",
    "importamos el la libreria e inicializamos el cliente de S3"
   ]
  },
  {
   "cell_type": "code",
   "execution_count": null,
   "metadata": {},
   "outputs": [],
   "source": [
    "import boto3\n",
    "\n",
    "s3 = boto3.client(\"s3\")"
   ]
  },
  {
   "cell_type": "markdown",
   "metadata": {},
   "source": [
    "## 3. ejecutamos la consulta\n",
    "\n",
    "Utilizaremos el metodo `select_object_content` y vamos a capturar la respuesta en la variable `resp`."
   ]
  },
  {
   "cell_type": "code",
   "execution_count": null,
   "metadata": {},
   "outputs": [],
   "source": [
    "resp = s3.select_object_content(\n",
    "    Bucket=\"aws101-s3-select\",\n",
    "    Key=\"agencias-viajes-20181012.csv\",\n",
    "    ExpressionType=\"SQL\",\n",
    "    Expression=\"SELECT * FROM s3object s\",\n",
    "    InputSerialization={\"CSV\": {\"FileHeaderInfo\": \"Use\"}, \"CompressionType\": \"NONE\"},\n",
    "    OutputSerialization={\"CSV\": {}},\n",
    ")"
   ]
  },
  {
   "cell_type": "markdown",
   "metadata": {},
   "source": [
    "Apartir de aqui ya podemos hacer con los datos lo que mas nos guste.\n",
    "\n",
    "En mi caso lo vamos a generar un **dataframe en pandas** para luego realizar algun analisis."
   ]
  },
  {
   "cell_type": "markdown",
   "metadata": {},
   "source": [
    "## 4. Consolidamos los datos\n",
    "\n",
    "Consolidamos los datos de la respuesta en un Array y lo concatenamos una variable que luego utilizaremos para generar un `dataframe` con **Pandas**"
   ]
  },
  {
   "cell_type": "code",
   "execution_count": null,
   "metadata": {},
   "outputs": [],
   "source": [
    "records = []\n",
    "for event in resp[\"Payload\"]:\n",
    "    if \"Records\" in event:\n",
    "        records.append(event[\"Records\"][\"Payload\"])\n",
    "    elif \"Stats\" in event:\n",
    "        statsDetails = event[\"Stats\"][\"Details\"]\n",
    "        print(\"Stats details bytesScanned: \")\n",
    "        print(statsDetails[\"BytesScanned\"])\n",
    "        print(\"Stats details bytesProcessed: \")\n",
    "        print(statsDetails[\"BytesProcessed\"])\n",
    "        print(\"Stats details bytesReturned: \")\n",
    "        print(statsDetails[\"BytesReturned\"])\n",
    "\n",
    "file_str = \"\".join(r.decode(\"utf-8\") for r in records)"
   ]
  },
  {
   "cell_type": "markdown",
   "metadata": {},
   "source": [
    "## 5. Creamos el Dataframe con Pandas\n",
    "\n",
    "Importamos la libreria `pandas` como `PD`.\n",
    "\n",
    "Tambien utilizaremos `StringIO` de la libreria `io`\n",
    "\n",
    "Luego con `StringIO` utilizaremos el contenido de la variable `file_str`, donde concatenamos nuestros datos, para generar pasarle levantar los datos en `pandas` utilizando el metodo `read_csv` y lo guardaremos en la variable `select_df`.\n",
    "\n",
    "Utilizando `PD.DataFrame` vamos a generar el dataframe que almacenaremos en la variables `df`\n",
    "\n",
    "Finalmente vamos a listar las primeras lineas de nuestro dataframe utilizando `head`"
   ]
  },
  {
   "cell_type": "code",
   "execution_count": null,
   "metadata": {},
   "outputs": [],
   "source": [
    "import pandas as PD\n",
    "from io import StringIO\n",
    "\n",
    "select_df = PD.read_csv(StringIO(file_str))\n",
    "df = PD.DataFrame(select_df)\n",
    "df.head(3)"
   ]
  },
  {
   "cell_type": "markdown",
   "metadata": {},
   "source": [
    "### Agergamos el nombre de las columnas\n",
    "\n",
    "Cuando definimos el query inicial con S3 elect le indicamos que nuestro archivo tenia encabezados de la primera linea y que los podia utilizar, pero esto causo que los resultados obtenidos no poseen el encabezado en la primera linea.\n",
    "\n",
    "Por esta razon los vamos a importar dentro de nuestro dataframe"
   ]
  },
  {
   "cell_type": "code",
   "execution_count": null,
   "metadata": {},
   "outputs": [],
   "source": [
    "resp = s3.select_object_content(\n",
    "    Bucket=\"aws101-s3-select\",\n",
    "    Key=\"agencias-viajes-20181012.csv\",\n",
    "    ExpressionType=\"SQL\",\n",
    "    Expression=\"SELECT * FROM s3object s limit 1\",\n",
    "    InputSerialization={\"CSV\": {\"FileHeaderInfo\": \"NONE\"}, \"CompressionType\": \"NONE\"},\n",
    "    OutputSerialization={\"CSV\": {}},\n",
    ")\n",
    "headers = \"\"\n",
    "for event in resp[\"Payload\"]:\n",
    "    if \"Records\" in event:\n",
    "        headers = (\n",
    "            event[\"Records\"][\"Payload\"].decode(\"utf-8\", \"ingore\").strip().split(\",\")\n",
    "        )\n",
    "    elif \"Stats\" in event:\n",
    "        statsDetails = event[\"Stats\"][\"Details\"]\n",
    "df.columns = headers\n",
    "df.columns"
   ]
  },
  {
   "cell_type": "code",
   "execution_count": null,
   "metadata": {},
   "outputs": [],
   "source": [
    "df.head(5)"
   ]
  },
  {
   "cell_type": "code",
   "execution_count": null,
   "metadata": {},
   "outputs": [],
   "source": [
    "df[\"tipo\"].value_counts()"
   ]
  },
  {
   "cell_type": "code",
   "execution_count": null,
   "metadata": {},
   "outputs": [],
   "source": [
    "df = PD.get_dummies(df, columns=[\"tipo\"])"
   ]
  },
  {
   "cell_type": "code",
   "execution_count": null,
   "metadata": {},
   "outputs": [],
   "source": [
    "df.head(5)"
   ]
  }
 ],
 "metadata": {
  "interpreter": {
   "hash": "767d51c1340bd893661ea55ea3124f6de3c7a262a8b4abca0554b478b1e2ff90"
  },
  "kernelspec": {
   "display_name": "Python 3.8.10 64-bit",
   "language": "python",
   "name": "python3"
  },
  "language_info": {
   "codemirror_mode": {
    "name": "ipython",
    "version": 3
   },
   "file_extension": ".py",
   "mimetype": "text/x-python",
   "name": "python",
   "nbconvert_exporter": "python",
   "pygments_lexer": "ipython3",
   "version": "3.8.10"
  }
 },
 "nbformat": 4,
 "nbformat_minor": 2
}
